{
 "cells": [
  {
   "cell_type": "markdown",
   "id": "bbe38b60",
   "metadata": {},
   "source": [
    "# Markov Chain Simulation Project\n",
    "\n",
    "In this project I fit a Markov chain model to simulated insurance claims data. The data comes from the file ‘data – sorted.csv’ which was provided to me by my professor for a class project.\n",
    "\n",
    "## The Situation\n",
    "\n",
    "The Mastodon Insurance Company studies a cohort of 600 drivers, who were all below 25 years old at the start of the study. In each year the number of claims made by every driver was noted.\n",
    "\n",
    "Mastodon operates a classification scheme with six discount levels from level 0 (no discount, ie the driver pays full premium) to level 5 (50% discount), with a 10% increase in discount at each step. A policyholder who makes no claims in a year moves up one level (unless already at level 5); a policyholder who makes 1 or more claims moves down one level (unless already at level 0).\n",
    "\n",
    "Before the study began, the drivers were categorised using variables such as age, gender, zip code, and miles driven per year. The categories reflect Mastodon’s expectation of the level of risk associated with that driver:\n",
    "\n",
    "+ Category A — very low risk, ie the best drivers\n",
    "+ Category B — low risk\n",
    "+ Category C — medium risk\n",
    "+ Category D — high risk, ie the worst drivers\n",
    "\n",
    "### The Data Set\n",
    "\n",
    "+ The data set supplied is a .csv file.\n",
    "+ The top row of the data set provided consists of headers.\n",
    "+ The category in which the driver was classified is the first column of the data set, which has the header \"Category\".\n",
    "+ The discount level in which the driver was located at the start of the study is the second column, which has the header \"Initial\".\n",
    "+ The remaining 15 columns give the number of claims in each of the years 1 through 15 of the study.\n",
    "\n",
    "## The Task\n",
    "\n",
    "The aim of this project is to investigate 2 themes, explain my process as I go through my analysis in a Jupyter Notebook, and to write up my findings in the form of an Executive Summary. I will aim for a length of about 700 words, suitably illustrated with graphs produced using R as my statistical package.\n",
    "\n",
    "## My Thinking\n",
    "\n",
    "### Part 1\n",
    "\n",
    "Assume that the number of claims made by a customer each year forms a sequence of independent and identically distributed random variables, with common distribution being Poisson. Assume λ is the same for all policyholders. I will be using test values for λ of [.06, .12, .18, .24, .30]. For a given policyholder, the discount level at times 0, 1, 2, ..., 15 follows a kind of time series that data scientists call a \"Markov chain\". \n",
    "\n",
    "My plan to investigate this scenario is:\n",
    "\n",
    "+ My first step should be to calculate the transition matrix of the Markov chain, I think the best tool I have for this will be Python.\n",
    "+ My second step should be to calculate the equilibrium distribution of the Markov chain. Once I have the transition matrix in Python, it will be easiest to keep working in Python for my calculations.\n",
    "+ My third step should be to calculate the year-by-year (over all 16 years) average percentage of full premium paid each year; I also calculated the equilibrium matrix and therefore included the minimum at the limit. I performed these calculations in Python.\n",
    "+ Lastly, I should graph the results from the third step using ggplot2 in R.\n",
    "\n",
    "\n",
    "### Part 2\n",
    "\n",
    "I will devise a new classification scheme for Mastodon that alleviates any issues with the current program. Then, I will repeat the analysis of Part 1 for my newly proposed program. Finally, I’ll explain why my program should be considered over the current program.\n",
    "\n"
   ]
  },
  {
   "cell_type": "markdown",
   "id": "752674da",
   "metadata": {},
   "source": [
    "# My Action\n",
    "\n",
    "Now that we've established the project, let's get coding!"
   ]
  },
  {
   "cell_type": "markdown",
   "id": "9e97c09b",
   "metadata": {
    "scrolled": true
   },
   "source": [
    "# Setup\n",
    "\n",
    "Since most of my work will be in Python, I start by importing the tried and true numpy and pandas packages, which will aid me as I perform my data analysis and import my data from the csv file.\n",
    "\n",
    "Next I load the extension that allows me to mix R and Python in the same environment.\n",
    "\n",
    "The last thing I do in this code block is import my dataset.\n",
    "\n",
    "In the second code block I go into R and load in all of the packages I'll be using to make graphs and tables."
   ]
  },
  {
   "cell_type": "code",
   "execution_count": 1,
   "id": "9831e2ad",
   "metadata": {},
   "outputs": [
    {
     "name": "stderr",
     "output_type": "stream",
     "text": [
      "C:\\Users\\redga\\AppData\\Roaming\\Python\\Python310\\site-packages\\rpy2\\robjects\\packages.py:366: UserWarning: The symbol 'quartz' is not in this R namespace/package.\n",
      "  warnings.warn(\n"
     ]
    }
   ],
   "source": [
    "import numpy as np\n",
    "import pandas as pd\n",
    "\n",
    "%load_ext rpy2.ipython\n",
    "\n",
    "data = pd.read_csv (r'C:/Users/redga/Documents/code/Markov Chain Project/data - sorted.csv')"
   ]
  },
  {
   "cell_type": "code",
   "execution_count": 2,
   "id": "ce22a918",
   "metadata": {},
   "outputs": [],
   "source": [
    "%%R\n",
    "\n",
    "library(ggplot2)\n",
    "library(knitr)\n",
    "library(kableExtra)\n",
    "library(IRdisplay)\n",
    "library(reshape)"
   ]
  },
  {
   "cell_type": "markdown",
   "id": "03323fdf",
   "metadata": {},
   "source": [
    "# Probability Distribution: Poisson\n",
    "\n",
    "Here I begin my anlaysis by building a function that will return the values of 3 probabilities given a particular lambda for a Poisson Distribution:\n",
    "+ P(0)\n",
    "+ P(1)\n",
    "+ P(>1)"
   ]
  },
  {
   "cell_type": "code",
   "execution_count": 3,
   "id": "d5a572e4",
   "metadata": {},
   "outputs": [],
   "source": [
    "def probs(lamb, prnt):\n",
    "\n",
    "    p_0_lam = np.exp(-lamb)\n",
    "    p_1_lam = np.exp(-lamb)*lamb\n",
    "    p_gt1_lam = 1 - p_0_lam - p_1_lam\n",
    "    \n",
    "    if prnt == True:\n",
    "        print('Probability of making 0 claims given a lambda of', lamb, 'is', p_0_lam)\n",
    "        print('Probability of making 1 claim given a lambda of', lamb, 'is', p_1_lam)\n",
    "        print('Probability of making greater than 1 claims given a lambda of', lamb, 'is', p_gt1_lam)\n",
    "    \n",
    "    probs = [p_0_lam, p_1_lam, p_gt1_lam]\n",
    "    return probs"
   ]
  },
  {
   "cell_type": "markdown",
   "id": "f57c1834",
   "metadata": {},
   "source": [
    "# Transition Matrix\n",
    "\n",
    "Next, I build the necessary transition matrix for the orginial scenario, given the set of probabilities I generated using the previous function."
   ]
  },
  {
   "cell_type": "code",
   "execution_count": 4,
   "id": "d0d7eeb4",
   "metadata": {},
   "outputs": [],
   "source": [
    "def init_tmat(probs, prnt):\n",
    "    \n",
    "    tmat = np.zeros((6,6))\n",
    "    \n",
    "    tmat[0][0] = 1 - probs[0]\n",
    "    tmat[0][1] = probs[0]\n",
    "    \n",
    "    ctr = 1\n",
    "    while ctr < 5:\n",
    "        tmat[ctr][ctr - 1] = 1 - probs[0]\n",
    "        tmat[ctr][ctr + 1] = probs[0]\n",
    "        ctr += 1\n",
    "    \n",
    "    tmat[5][4] = 1 - probs[0]\n",
    "    tmat[5][5] = probs[0]\n",
    "    \n",
    "    if prnt == True:\n",
    "        print(tmat)\n",
    "    \n",
    "    return tmat"
   ]
  },
  {
   "cell_type": "markdown",
   "id": "60ae925b",
   "metadata": {},
   "source": [
    "# Calculating the Forecast Model and Equilibrium Matrices\n",
    "\n",
    "Since the problem asks for us to find the annual average rate of Premiums paid, I needed to calculate at least 15 years worth of transition matrices. Additionally, I calculated the equilibrium matrix while I was at it."
   ]
  },
  {
   "cell_type": "code",
   "execution_count": 5,
   "id": "9184b2ff",
   "metadata": {},
   "outputs": [],
   "source": [
    "def find_eqmat(tmat, prnt):\n",
    "    \n",
    "    out = []\n",
    "    out.append(tmat)\n",
    "    old = tmat\n",
    "    years = 0\n",
    "    diff = 10\n",
    "    while diff > .0000000000001:\n",
    "        \n",
    "        new = np.matmul(old,tmat)\n",
    "        tempdiff = new - old\n",
    "       \n",
    "        ctr0 = 0 \n",
    "        while ctr0 < 6:\n",
    "            ctr1 = 0\n",
    "            while ctr1 < 6:\n",
    "                tempdiff[ctr0][ctr1] = np.absolute(tempdiff[ctr0][ctr1])\n",
    "                ctr1 += 1\n",
    "            ctr0 += 1\n",
    "        \n",
    "        if years < 14:\n",
    "            out.append(new)\n",
    "        \n",
    "        years += 1\n",
    "        old = new\n",
    "        \n",
    "        diff = np.sum(tempdiff)\n",
    "    \n",
    "    out.append(new)\n",
    "    \n",
    "    if prnt == True:\n",
    "        print(years-1)\n",
    "    \n",
    "    out.append(years-1)\n",
    "    \n",
    "    return out"
   ]
  },
  {
   "cell_type": "markdown",
   "id": "c8e06716",
   "metadata": {},
   "source": [
    "# Cleanup Function\n",
    "\n",
    "This function is just here to make my code a little easier to read and take fewer lines. It simply passes a lambda value through the previous functions and generates the initial matrix, the 15 transition matrices, and the equilibrium matrix."
   ]
  },
  {
   "cell_type": "code",
   "execution_count": 6,
   "id": "26840804",
   "metadata": {},
   "outputs": [],
   "source": [
    "def gen(lamb,prnt):\n",
    "\n",
    "    return find_eqmat(init_tmat(probs(lamb,prnt),prnt),prnt)"
   ]
  },
  {
   "cell_type": "markdown",
   "id": "9d3ef98f",
   "metadata": {},
   "source": [
    "# Initial Category Populations\n",
    "\n",
    "This code block builds a list, init, that will hold how many people start in each level."
   ]
  },
  {
   "cell_type": "code",
   "execution_count": 7,
   "id": "fcaf0154",
   "metadata": {
    "scrolled": true
   },
   "outputs": [],
   "source": [
    "ctr0 = 0\n",
    "init = []\n",
    "while ctr0 < 6:\n",
    "    ctr1 = 0\n",
    "    temp = 0\n",
    "    while ctr1 < len(data['Initial']):\n",
    "        if data['Initial'][ctr1] == ctr0:\n",
    "            temp += 1\n",
    "        ctr1 += 1\n",
    "    init.append(temp)\n",
    "    ctr0 += 1"
   ]
  },
  {
   "cell_type": "markdown",
   "id": "be0790f3",
   "metadata": {},
   "source": [
    "# Simulated Distribution of Levels over Time\n",
    "\n",
    "This code block takes the transition matrices and multiplies each row by the number of constituents from the beginning of the cohort. This allows us to track the expected number of people in each level based on which level they started at."
   ]
  },
  {
   "cell_type": "code",
   "execution_count": 8,
   "id": "69bb7b8d",
   "metadata": {},
   "outputs": [],
   "source": [
    "def vals(init,gen):\n",
    "\n",
    "    initmat = np.zeros((6,6))\n",
    "\n",
    "    ctr = 0\n",
    "    while ctr < len(init):\n",
    "        initmat[ctr][ctr] = init[ctr]\n",
    "        ctr += 1\n",
    "    \n",
    "    out = [initmat]\n",
    "    ctr = 1\n",
    "    while ctr < len(gen):\n",
    "        out.append(np.matmul(initmat,gen[ctr - 1]))\n",
    "        ctr += 1\n",
    "    out.append(gen[-1])\n",
    "        \n",
    "    return out"
   ]
  },
  {
   "cell_type": "markdown",
   "id": "64ccfa07",
   "metadata": {},
   "source": [
    "# Average Premiums Paid as a Percentage per Year\n",
    "\n",
    "This function takes the information gleaned from the previous code block and finds what percentage of premiums are expected to be collected each year by Mastodon Insurance and returns this information as a pandas dataframe."
   ]
  },
  {
   "cell_type": "code",
   "execution_count": 9,
   "id": "37d4d82e",
   "metadata": {},
   "outputs": [],
   "source": [
    "def avg_yoy(val,disc):\n",
    "    \n",
    "    out = []\n",
    "    ctr = 0\n",
    "    while ctr < len(val) - 1:\n",
    "        discmat = np.matmul(val[ctr],disc)\n",
    "        num = np.sum(discmat)\n",
    "        den = np.sum(val[ctr])\n",
    "        avg = num / den\n",
    "        if ctr < 16:\n",
    "            out.append([ctr,avg])\n",
    "        if ctr == 16:\n",
    "            out.append([val[-1],avg])\n",
    "        ctr += 1\n",
    "        \n",
    "    df = pd.DataFrame(out, columns = ['years', 'average'])\n",
    "            \n",
    "    return df"
   ]
  },
  {
   "cell_type": "markdown",
   "id": "e5df008d",
   "metadata": {},
   "source": [
    "# Time to calculate\n",
    "\n",
    "First, I build a quick function to keep my code neat. This function takes a lambda, initial populations, a discount vector for each group, and a Boolean for whether or not you would like print statements as it runs. It returns a dataframe composed of the initial matrix, the 15 transition matrices, and the equilibrium matrix.\n",
    "\n",
    "After I build this function, I call it 5 times for each of our lambda values and store them as a series of variables."
   ]
  },
  {
   "cell_type": "code",
   "execution_count": 10,
   "id": "5b256d71",
   "metadata": {},
   "outputs": [],
   "source": [
    "def org_avgs_gen(lamb,init,disc,prnt):\n",
    "\n",
    "    return avg_yoy(vals(init,gen(lamb,prnt)),disc)\n",
    "\n",
    "org_disc = [1,.9,.8,.7,.6,.5]\n",
    "\n",
    "avgs1 = org_avgs_gen(.06,init,org_disc,False)\n",
    "avgs2 = org_avgs_gen(.12,init,org_disc,False)\n",
    "avgs3 = org_avgs_gen(.18,init,org_disc,False)\n",
    "avgs4 = org_avgs_gen(.24,init,org_disc,False)\n",
    "avgs5 = org_avgs_gen(.30,init,org_disc,False)"
   ]
  },
  {
   "cell_type": "markdown",
   "id": "6b900613",
   "metadata": {},
   "source": [
    "# Graphing\n",
    "\n",
    "In the next five code blocks I use '%%R' to run R code inline with my Python code. Each of the next five blocks are doing the same thing: Using ggplot2 to graph our results."
   ]
  },
  {
   "cell_type": "code",
   "execution_count": 11,
   "id": "07c1dc32",
   "metadata": {},
   "outputs": [
    {
     "data": {
      "image/png": "[encoded data removed]"
     },
     "metadata": {},
     "output_type": "display_data"
    }
   ],
   "source": [
    "%%R -i avgs1 \n",
    "\n",
    "plot1 <- ggplot(avgs1) +\n",
    "     aes_string(x = 'years',\n",
    "                y = 'average') +\n",
    "     geom_line()  +\n",
    "     ggtitle('Original Average Premiums Paid over Time, lambda of .06') +\n",
    "     xlab('Years Since Start of Cohort') +\n",
    "     ylab('Average Premiums Paid as a Percentage')\n",
    "print(plot1)"
   ]
  },
  {
   "cell_type": "code",
   "execution_count": 12,
   "id": "d8edbaef",
   "metadata": {},
   "outputs": [
    {
     "data": {
      "image/png": "[encoded data removed]"
     },
     "metadata": {},
     "output_type": "display_data"
    }
   ],
   "source": [
    "%%R -i avgs2\n",
    "\n",
    "plot2 <- ggplot(avgs2) +\n",
    "     aes_string(x = 'years',\n",
    "                y = 'average') +\n",
    "     geom_line()  +\n",
    "     ggtitle('Original Average Premiums Paid over Time, lambda of .12') +\n",
    "     xlab('Years Since Start of Cohort') +\n",
    "     ylab('Average Premiums Paid as a Percentage')\n",
    "print(plot2)"
   ]
  },
  {
   "cell_type": "code",
   "execution_count": 13,
   "id": "de117f91",
   "metadata": {},
   "outputs": [
    {
     "data": {
      "image/png": "[encoded data removed]"
     },
     "metadata": {},
     "output_type": "display_data"
    }
   ],
   "source": [
    "%%R -i avgs3\n",
    "\n",
    "plot3 <- ggplot(avgs3) +\n",
    "     aes_string(x = 'years',\n",
    "                y = 'average') +\n",
    "     geom_line()  +\n",
    "     ggtitle('Original Average Premiums Paid over Time, lambda of .18') +\n",
    "     xlab('Years Since Start of Cohort') +\n",
    "     ylab('Average Premiums Paid as a Percentage')\n",
    "print(plot3)"
   ]
  },
  {
   "cell_type": "code",
   "execution_count": 14,
   "id": "bfd8d5ff",
   "metadata": {},
   "outputs": [
    {
     "data": {
      "image/png": "[encoded data removed]"
     },
     "metadata": {},
     "output_type": "display_data"
    }
   ],
   "source": [
    "%%R -i avgs4\n",
    "\n",
    "plot4 <- ggplot(avgs4) +\n",
    "     aes_string(x = 'years',\n",
    "                y = 'average') +\n",
    "     geom_line()  +\n",
    "     ggtitle('Original Average Premiums Paid over Time, lambda of .24') +\n",
    "     xlab('Years Since Start of Cohort') +\n",
    "     ylab('Average Premiums Paid as a Percentage')\n",
    "print(plot4)"
   ]
  },
  {
   "cell_type": "code",
   "execution_count": 15,
   "id": "49e8a8ef",
   "metadata": {},
   "outputs": [
    {
     "data": {
      "image/png": "[encoded data removed]"
     },
     "metadata": {},
     "output_type": "display_data"
    }
   ],
   "source": [
    "%%R -i avgs5\n",
    "\n",
    "plot5 <- ggplot(avgs5) +\n",
    "     aes_string(x = 'years',\n",
    "                y = 'average') +\n",
    "     geom_line()  +\n",
    "     ggtitle('Original Average Premiums Paid over Time, lambda of .30') +\n",
    "     xlab('Years Since Start of Cohort') +\n",
    "     ylab('Average Premiums Paid as a Percentage')\n",
    "print(plot5)"
   ]
  },
  {
   "cell_type": "markdown",
   "id": "2a211742",
   "metadata": {},
   "source": [
    "# The Problem with Mastodon's Program\n",
    "\n",
    "One will notice that Mastodon is too generous with their discount because over time the average drivers’ category migrates toward just about everyone getting a big discount. That’s a problem when your forecast predicts pulling in only 51~56% of your premiums!\n",
    "\n",
    "It's harder to see in the individual graphs, so here is a table, followed by a combined graph for comparison.\n"
   ]
  },
  {
   "cell_type": "code",
   "execution_count": 16,
   "id": "ee4c5042",
   "metadata": {
    "scrolled": false
   },
   "outputs": [
    {
     "name": "stdout",
     "output_type": "stream",
     "text": [
      "\n",
      "\n",
      " Years   Avg, l = .06   Avg, l = .12   Avg, l = .18   Avg, l = .24   Avg, l = .30\n",
      "------  -------------  -------------  -------------  -------------  -------------\n",
      "     0      0.7695000      0.7695000      0.7695000      0.7695000      0.7695000\n",
      "     1      0.6908692      0.7003207      0.7092218      0.7176045      0.7254990\n",
      "     2      0.6260551      0.6434893      0.6598724      0.6752698      0.6897423\n",
      "     3      0.5733053      0.5961466      0.6179668      0.6387358      0.6584441\n",
      "     4      0.5401064      0.5642284      0.5882622      0.6118805      0.6348438\n",
      "     5      0.5195638      0.5417162      0.5654663      0.5900319      0.6148063\n",
      "     6      0.5128656      0.5306265      0.5519204      0.5755798      0.6006353\n",
      "     7      0.5088351      0.5230239      0.5417542      0.5639988      0.5887076\n",
      "     8      0.5076652      0.5195382      0.5359860      0.5565656      0.5804341\n",
      "     9      0.5069664      0.5171676      0.5316855      0.5506370      0.5734894\n",
      "    10      0.5067702      0.5161039      0.5292801      0.5468679      0.5687025\n",
      "    11      0.5066533      0.5153822      0.5274906      0.5438663      0.5646880\n",
      "    12      0.5066208      0.5150607      0.5264944      0.5419641      0.5619265\n",
      "    13      0.5066014      0.5148427      0.5257538      0.5404499      0.5596114\n",
      "    14      0.5065961      0.5147458      0.5253421      0.5394914      0.5580199\n",
      "    15      0.5065929      0.5146802      0.5250361      0.5387285      0.5566858\n"
     ]
    },
    {
     "data": {
      "image/png": "[encoded data removed]"
     },
     "metadata": {},
     "output_type": "display_data"
    }
   ],
   "source": [
    "%%R \n",
    "\n",
    "avgs12 <- merge(avgs1,avgs2,by=\"years\")\n",
    "avgs34 <- merge(avgs3,avgs4,by=\"years\")\n",
    "avgs1234 <- merge(avgs12,avgs34,by=\"years\")\n",
    "avgsall <- merge(avgs1234,avgs5,by=\"years\")\n",
    "\n",
    "colnames(avgsall) <- c('years','l06','l12','l18','l24','l30')\n",
    "\n",
    "orgtable <- kable(avgsall,'simple', \n",
    "            col.names = c('Years', 'Avg, l = .06', 'Avg, l = .12', 'Avg, l = .18', 'Avg, l = .24', 'Avg, l = .30'))\n",
    "\n",
    "print(orgtable)\n",
    "\n",
    "ggavgsall <- melt(avgsall,id.var='years')\n",
    "\n",
    "lambs <- c('l = .06', 'l = .12', 'l = .18', 'l = .24', 'l = .30')\n",
    "cols <- c('red', 'dark green', 'blue', 'black', 'brown')\n",
    "\n",
    "plot6 <- ggplot(ggavgsall, aes(x=years, y=value, col=variable)) +\n",
    "         geom_line()+\n",
    "         labs(title='Original Average Premiums Paid over Time, Lambdas compared',\n",
    "              x='Years since Beginning of Cohort', y='Percentage of Premiums Paid',\n",
    "              col='Lambda value') +\n",
    "        scale_color_manual(labels = lambs, values = cols)\n",
    "print(plot6)"
   ]
  },
  {
   "cell_type": "markdown",
   "id": "b97c2bff",
   "metadata": {},
   "source": [
    "# On to Part II!\n",
    "\n",
    "Now that I've demonstrated the issues with the previous system, I set about ameliorating some of the problem.\n",
    "\n",
    "In this first code block I develop our new transition matrix. My plan moving forward is to penalize drivers who make more than one claim in a year by moving them down two levels. Since we're now moving down two levels if there's more than one accident we need a slightly different approach to building our transition matrix."
   ]
  },
  {
   "cell_type": "code",
   "execution_count": 17,
   "id": "e1a3a0e8",
   "metadata": {},
   "outputs": [],
   "source": [
    "def rev_tmat(probs, prnt):\n",
    "    \n",
    "    tmat = np.zeros((6,6))\n",
    "    \n",
    "    tmat[0][0] = 1 - probs[0]\n",
    "    tmat[0][1] = probs[0]\n",
    "    \n",
    "    tmat[1][0] = 1 - probs[0]\n",
    "    tmat[1][2] = probs[0]\n",
    "    \n",
    "    ctr = 2\n",
    "    while ctr < 5:\n",
    "        tmat[ctr][ctr - 2] = probs[2]\n",
    "        tmat[ctr][ctr - 1] = probs[1]\n",
    "        tmat[ctr][ctr + 1] = probs[0]\n",
    "        ctr += 1\n",
    "    \n",
    "    tmat[5][4] = 1 - probs[0]\n",
    "    tmat[5][5] = probs[0]\n",
    "    \n",
    "    if prnt == True:\n",
    "        print(tmat)\n",
    "    \n",
    "    return tmat"
   ]
  },
  {
   "cell_type": "markdown",
   "id": "08f5815d",
   "metadata": {},
   "source": [
    "# Time to Calculate: Part II\n",
    "\n",
    "Now that we have the new transition matrix, I aslo want to adjust the discount levels. Once we adjust the transition matrix and discount levels, all we have to do is the same calculation we did before, but with the new transition matrix and the new discount scheme. 'rev_gen' and 'rev_avgs_gen' are the revised versions of the previous functions we've used. 'rev_disc' is the revised discount scheme. \n",
    "\n",
    "The five variables I built are the dataframes we'll be graphing in the next section."
   ]
  },
  {
   "cell_type": "code",
   "execution_count": 18,
   "id": "0e9e1f03",
   "metadata": {},
   "outputs": [],
   "source": [
    "def rev_gen(lamb,prnt):\n",
    "\n",
    "    return find_eqmat(rev_tmat(probs(lamb,prnt),prnt),prnt)\n",
    "\n",
    "def rev_avgs_gen(lamb,init,disc,prnt):\n",
    "\n",
    "    return avg_yoy(vals(init,rev_gen(lamb,prnt)),disc)\n",
    "\n",
    "rev_disc = [1,.925,.85,.775,.7,.625]\n",
    "\n",
    "ravgs1 = rev_avgs_gen(.06,init,rev_disc,False)\n",
    "ravgs2 = rev_avgs_gen(.12,init,rev_disc,False)\n",
    "ravgs3 = rev_avgs_gen(.18,init,rev_disc,False)\n",
    "ravgs4 = rev_avgs_gen(.24,init,rev_disc,False)\n",
    "ravgs5 = rev_avgs_gen(.30,init,rev_disc,False)"
   ]
  },
  {
   "cell_type": "markdown",
   "id": "9973a739",
   "metadata": {},
   "source": [
    "# Graphing: Part II\n",
    "\n",
    "Now we'll go through the same process as before to graph our new system and check out the results."
   ]
  },
  {
   "cell_type": "code",
   "execution_count": 19,
   "id": "effdec11",
   "metadata": {},
   "outputs": [
    {
     "data": {
      "image/png": "[encoded data removed]"
     },
     "metadata": {},
     "output_type": "display_data"
    }
   ],
   "source": [
    "%%R -i ravgs1 \n",
    "\n",
    "rplot1 <- ggplot(ravgs1) +\n",
    "     aes_string(x = 'years',\n",
    "                y = 'average') +\n",
    "     geom_line()  +\n",
    "     ggtitle('Revised Average Premiums Paid over Time, lambda of .06') +\n",
    "     xlab('Years Since Start of Cohort') +\n",
    "     ylab('Average Premiums Paid as a Percentage')\n",
    "print(rplot1)"
   ]
  },
  {
   "cell_type": "code",
   "execution_count": 20,
   "id": "a08e79f0",
   "metadata": {},
   "outputs": [
    {
     "data": {
      "image/png": "[encoded data removed]"
     },
     "metadata": {},
     "output_type": "display_data"
    }
   ],
   "source": [
    "%%R -i ravgs2\n",
    "\n",
    "rplot2 <- ggplot(ravgs2) +\n",
    "     aes_string(x = 'years',\n",
    "                y = 'average') +\n",
    "     geom_line()  +\n",
    "     ggtitle('Revised Average Premiums Paid over Time, lambda of .12') +\n",
    "     xlab('Years Since Start of Cohort') +\n",
    "     ylab('Average Premiums Paid as a Percentage')\n",
    "print(rplot2)"
   ]
  },
  {
   "cell_type": "code",
   "execution_count": 21,
   "id": "769d2056",
   "metadata": {},
   "outputs": [
    {
     "data": {
      "image/png": "[encoded data removed]"
     },
     "metadata": {},
     "output_type": "display_data"
    }
   ],
   "source": [
    "%%R -i ravgs3\n",
    "\n",
    "rplot3 <- ggplot(ravgs3) +\n",
    "     aes_string(x = 'years',\n",
    "                y = 'average') +\n",
    "     geom_line()  +\n",
    "     ggtitle('Revised Average Premiums Paid over Time, lambda of .18') +\n",
    "     xlab('Years Since Start of Cohort') +\n",
    "     ylab('Average Premiums Paid as a Percentage')\n",
    "print(rplot3)"
   ]
  },
  {
   "cell_type": "code",
   "execution_count": 22,
   "id": "57552897",
   "metadata": {},
   "outputs": [
    {
     "data": {
      "image/png": "[encoded data removed]"
     },
     "metadata": {},
     "output_type": "display_data"
    }
   ],
   "source": [
    "%%R -i ravgs4\n",
    "\n",
    "rplot4 <- ggplot(ravgs4) +\n",
    "     aes_string(x = 'years',\n",
    "                y = 'average') +\n",
    "     geom_line()  +\n",
    "     ggtitle('Revised Average Premiums Paid over Time, lambda of .24') +\n",
    "     xlab('Years Since Start of Cohort') +\n",
    "     ylab('Average Premiums Paid as a Percentage')\n",
    "print(rplot4)"
   ]
  },
  {
   "cell_type": "code",
   "execution_count": 23,
   "id": "ebcb0832",
   "metadata": {},
   "outputs": [
    {
     "data": {
      "image/png": "[encoded data removed]"
     },
     "metadata": {},
     "output_type": "display_data"
    }
   ],
   "source": [
    "%%R -i ravgs5\n",
    "\n",
    "rplot5 <- ggplot(ravgs5) +\n",
    "     aes_string(x = 'years',\n",
    "                y = 'average') +\n",
    "     geom_line()  +\n",
    "     ggtitle('Revised Average Premiums Paid over Time, lambda of .30') +\n",
    "     xlab('Years Since Start of Cohort') +\n",
    "     ylab('Average Premiums Paid as a Percentage')\n",
    "print(rplot5)"
   ]
  },
  {
   "cell_type": "markdown",
   "id": "be64ee69",
   "metadata": {},
   "source": [
    "# My Result\n",
    "\n",
    "Now we have the results of my solution. In the graphs above we notice a similar pattern about the lambda as the original program. Below, I graph the revised program's together again and we an see that lambda affects the steepness of the curve. If we don't look too closely we might conclude that my solution may not have been that impressive. However, when looking at a new table we start to see it a little differently. When I graph my revised program's project premiums against the previous program's project premiums, a clear pattern emerges. At all values of lambda, my system generates higher levels of premiums paid. Looking at the table this is around 11% higher than the previous system."
   ]
  },
  {
   "cell_type": "code",
   "execution_count": 29,
   "id": "e0c90103",
   "metadata": {},
   "outputs": [
    {
     "name": "stdout",
     "output_type": "stream",
     "text": [
      "\n",
      "\n",
      " Years   Avg, l = .06   Avg, l = .12   Avg, l = .18   Avg, l = .24   Avg, l = .30\n",
      "------  -------------  -------------  -------------  -------------  -------------\n",
      "     0      0.8271250      0.8271250      0.8271250      0.8271250      0.8271250\n",
      "     1      0.7682239      0.7755173      0.7825149      0.7892266      0.7956617\n",
      "     2      0.7196842      0.7331550      0.7460446      0.7583628      0.7701216\n",
      "     3      0.6801959      0.6979265      0.7152001      0.7319265      0.7480382\n",
      "     4      0.6553294      0.6741381      0.6932801      0.7124273      0.7313143\n",
      "     5      0.6399256      0.6573275      0.6764362      0.6965794      0.7171885\n",
      "     6      0.6348408      0.6488845      0.6661868      0.6858146      0.7069086\n",
      "     7      0.6317728      0.6430888      0.6585123      0.6772537      0.6983817\n",
      "     8      0.6308334      0.6402856      0.6539183      0.6714570      0.6921416\n",
      "     9      0.6302896      0.6384229      0.6505681      0.6669482      0.6870644\n",
      "    10      0.6301206      0.6375092      0.6485345      0.6638524      0.6832964\n",
      "    11      0.6300271      0.6369209      0.6470864      0.6614898      0.6802789\n",
      "    12      0.6299970      0.6366252      0.6461911      0.6598432      0.6780108\n",
      "    13      0.6299810      0.6364400      0.6455658      0.6586048      0.6762155\n",
      "    14      0.6299757      0.6363447      0.6451729      0.6577313      0.6748533\n",
      "    15      0.6299730      0.6362864      0.6449026      0.6570814      0.6737838\n"
     ]
    },
    {
     "data": {
      "image/png": "[encoded data removed]"
     },
     "metadata": {},
     "output_type": "display_data"
    },
    {
     "data": {
      "image/png": "[encoded data removed]"
     },
     "metadata": {},
     "output_type": "display_data"
    }
   ],
   "source": [
    "%%R \n",
    "\n",
    "ravgs12 <- merge(ravgs1,ravgs2,by=\"years\")\n",
    "ravgs34 <- merge(ravgs3,ravgs4,by=\"years\")\n",
    "ravgs1234 <- merge(ravgs12,ravgs34,by=\"years\")\n",
    "ravgsall <- merge(ravgs1234,ravgs5,by=\"years\", col.names= c('years','l06','l12','l18','l24','l30'))\n",
    "\n",
    "colnames(ravgsall) <- c('years','l06','l12','l18','l24','l30')\n",
    "\n",
    "revtable <- kable(ravgsall,'simple', \n",
    "            col.names = c('Years', 'Avg, l = .06', 'Avg, l = .12', 'Avg, l = .18', 'Avg, l = .24', 'Avg, l = .30'))\n",
    "\n",
    "print(revtable)\n",
    "\n",
    "ggravgsall <- melt(ravgsall,id.var='years')\n",
    "\n",
    "rplot6 <- ggplot(ggravgsall, aes(x=years, y=value, col=variable)) +\n",
    "          geom_line(linetype='dashed')+\n",
    "          labs(title='Revised Average Premiums Paid over Time, Lambdas compared',\n",
    "               x='Years since Beginning of Cohort', y='Percentage of Premiums Paid',\n",
    "               col='Lambda value') +\n",
    "         scale_color_manual(labels = lambs, values = cols)\n",
    "print(rplot6)\n",
    "\n",
    "lambs <- c('l = .06', 'l = .12', 'l = .18', 'l = .24', 'l = .30', 'l = .06', 'l = .12', 'l = .18', 'l = .24', 'l = .30')\n",
    "cols <- c('red', 'dark green', 'blue', 'black', 'brown', 'red', 'dark green', 'blue', 'black', 'brown')\n",
    "\n",
    "allplot <- ggplot() +\n",
    "           geom_line(data=ggavgsall, aes(x=years, y=value, col=variable, linetype='a'))+\n",
    "           geom_line(data=ggravgsall, aes(x=years, y=value, col=variable, linetype='b'))+\n",
    "           labs(title='Average Premiums Paid over Time, Lambdas and Programs Compared',\n",
    "                x='Years since Beginning of Cohort', y='Percentage of Premiums Paid',\n",
    "                col='Lambda value', style='Program') +\n",
    "           scale_color_manual(labels = lambs, values = cols) +\n",
    "           scale_linetype_discrete(name='Program', labels = c('Original', 'Revised'))\n",
    "print(allplot)"
   ]
  },
  {
   "cell_type": "markdown",
   "id": "0f72d62c",
   "metadata": {},
   "source": [
    "# Reflection\n",
    "\n",
    "My goals for this project were to develop a better understanding of Markov Chains, to hone my coding skills, and to build something I could share with potential employers. This was my first time building a project in Jupyter Notebook with the intent to share it somewhat publicly, and I feel like it went well. However, I feel the scope may have been limited.\n",
    "\n",
    "So far in this project I've made several assumptions that simplify the process. Over time I would like to expand this project by relaxing these assumptions. The first thing that comes to mind is that I could test whether in this data set there is a different lambda for every category of driver, and whether the difference is statistically significant. Once I have that information it would be a relatively simple process to develop a more nuanced model as the way I set up my code, the calculation is basically runnable as a single callable function. I could expand this project to examine the total premiums collected across each individual category of driver, for instance. Additionally, as we are given the data for 15 years worth of accidents, it would be interesting to test my expected value of the model against what happened in those 15 years to compare the theoretical and experimental results. It's not terribly difficult to pull threads at the simplicity of the premise of the project, but one has to start somewhere! I figured this was sufficiently complex as to be talked about, but simple enough that I could accomplish the scope in a reasonable time frame.\n",
    "\n",
    "That being said, I do think I have accoplished my original three goals. I got to explore Markov Chains, I got to work with Python and R to build a program that accomplishes something, and now I have a project I can share publicly. If you're interested, I also wrote up a summary complete with graphics that would be targeted toward someone less interested in the how of the math and more interested in the results. Thank you for your interest and time! "
   ]
  }
 ],
 "metadata": {
  "kernelspec": {
   "display_name": "Python 3 (ipykernel)",
   "language": "python",
   "name": "python3"
  },
  "language_info": {
   "codemirror_mode": {
    "name": "ipython",
    "version": 3
   },
   "file_extension": ".py",
   "mimetype": "text/x-python",
   "name": "python",
   "nbconvert_exporter": "python",
   "pygments_lexer": "ipython3",
   "version": "3.10.0"
  }
 },
 "nbformat": 4,
 "nbformat_minor": 5
}
